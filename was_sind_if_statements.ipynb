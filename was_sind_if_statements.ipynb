{
 "metadata": {
  "language_info": {
   "codemirror_mode": {
    "name": "ipython",
    "version": 3
   },
   "file_extension": ".py",
   "mimetype": "text/x-python",
   "name": "python",
   "nbconvert_exporter": "python",
   "pygments_lexer": "ipython3",
   "version": "3.8.3-final"
  },
  "orig_nbformat": 2,
  "kernelspec": {
   "name": "python3",
   "display_name": "Python 3",
   "language": "python"
  }
 },
 "nbformat": 4,
 "nbformat_minor": 2,
 "cells": [
  {
   "source": [
    "# Was sind if-Statements?\n",
    "## Auflösung der letzten Aufgabe"
   ],
   "cell_type": "markdown",
   "metadata": {}
  },
  {
   "cell_type": "code",
   "execution_count": 16,
   "metadata": {},
   "outputs": [],
   "source": [
    "import numpy as np"
   ]
  },
  {
   "cell_type": "code",
   "execution_count": 17,
   "metadata": {},
   "outputs": [
    {
     "output_type": "stream",
     "name": "stdout",
     "text": [
      "[[37.92655435 23.90101111  1.        ]\n [35.88942857 22.73639281  1.        ]\n [29.49674574 21.42168559  1.        ]\n [32.48016326 21.7340484   1.        ]]\n"
     ]
    }
   ],
   "source": [
    "feature = np.array([[37.92655435, 23.90101111],\n",
    "                    [35.88942857, 22.73639281],\n",
    "                    [29.49674574, 21.42168559],\n",
    "                    [32.48016326, 21.7340484 ],\n",
    "                    [38.00676226, 24.37202837],\n",
    "                    [30.73073988, 22.69832608],\n",
    "                    [35.93672343, 21.07445241],\n",
    "                    [38.65212459, 20.57099727],\n",
    "                    [35.52041768, 21.74519457],\n",
    "                    [37.69535497, 20.33073640],\n",
    "                    [33.00699292, 22.57063861],\n",
    "                    [33.73140934, 23.81730782],\n",
    "                    [43.85053380, 20.05153803],\n",
    "                    [32.95555986, 24.12153986],\n",
    "                    [36.38192916, 19.20280266],\n",
    "                    [36.54270168, 20.45388966],\n",
    "                    [33.08246118, 22.20524015],\n",
    "                    [31.76866280, 21.01201139],\n",
    "                    [42.24260825, 20.44394610],\n",
    "                    [29.04450264, 22.46633771],\n",
    "                    [30.04284328, 21.54561621],\n",
    "                    [18.95626707, 19.66737753],\n",
    "                    [18.60176718, 17.74023009],\n",
    "                    [12.85314993, 18.42746953],\n",
    "                    [28.62450072, 17.94781944],\n",
    "                    [21.00655655, 19.33438286],\n",
    "                    [17.33580556, 18.81696459],\n",
    "                    [31.17129195, 17.23625014],\n",
    "                    [19.36176482, 20.67772798],\n",
    "                    [27.26581705, 16.71312863],\n",
    "                    [21.19107828, 19.00673617],\n",
    "                    [19.08131597, 15.24401994],\n",
    "                    [26.69761925, 17.05937466],\n",
    "                    [4.44136559 , 3.52432493 ],\n",
    "                    [10.26395607, 1.07729281 ],\n",
    "                    [7.39058439 , 3.44234423 ],\n",
    "                    [4.23565118 , 4.28840232 ],\n",
    "                    [3.87875761 , 5.12407692 ],\n",
    "                    [15.12959925, 6.26045879 ],\n",
    "                    [5.93041263 , 1.70841905 ],\n",
    "                    [4.25054779 , 5.01371294 ],\n",
    "                    [2.15139117 , 4.16668657 ],\n",
    "                    [2.38283228 , 3.83347914 ]])\n",
    "\n",
    "feature = np.concatenate((feature, np.ones(43).reshape(43,1)), axis=1)\n",
    "print(feature[:4,:])"
   ]
  },
  {
   "cell_type": "code",
   "execution_count": 18,
   "metadata": {},
   "outputs": [],
   "source": [
    "x = feature[1]\n",
    "w = np.random.rand(feature.shape[1])"
   ]
  },
  {
   "cell_type": "code",
   "execution_count": 19,
   "metadata": {},
   "outputs": [],
   "source": [
    "def perzeptron(w, x):\n",
    "    return np.dot(w, x) > 0"
   ]
  },
  {
   "source": [
    "## if-Statements"
   ],
   "cell_type": "markdown",
   "metadata": {}
  },
  {
   "cell_type": "code",
   "execution_count": 20,
   "metadata": {},
   "outputs": [],
   "source": [
    "y = 5\n",
    "hund = y > 0 and y != 2"
   ]
  },
  {
   "cell_type": "code",
   "execution_count": 21,
   "metadata": {},
   "outputs": [
    {
     "output_type": "stream",
     "name": "stdout",
     "text": [
      "True\n"
     ]
    }
   ],
   "source": [
    "hund = perzeptron(w, x)\n",
    "print(hund)"
   ]
  },
  {
   "cell_type": "code",
   "execution_count": 22,
   "metadata": {},
   "outputs": [
    {
     "output_type": "stream",
     "name": "stdout",
     "text": [
      "Die Bedingung ist True\n"
     ]
    }
   ],
   "source": [
    "if hund:\n",
    "  print(\"Die Bedingung ist True\")"
   ]
  },
  {
   "cell_type": "code",
   "execution_count": 24,
   "metadata": {},
   "outputs": [
    {
     "output_type": "stream",
     "name": "stdout",
     "text": [
      "y ist ungerade\n"
     ]
    }
   ],
   "source": [
    "if y % 2 == 1:\n",
    "  print(\"y ist ungerade\")"
   ]
  },
  {
   "cell_type": "code",
   "execution_count": 25,
   "metadata": {},
   "outputs": [],
   "source": [
    "hund = False"
   ]
  },
  {
   "cell_type": "code",
   "execution_count": 26,
   "metadata": {},
   "outputs": [
    {
     "output_type": "stream",
     "name": "stdout",
     "text": [
      "Die Bedingung ist False\n"
     ]
    }
   ],
   "source": [
    "if hund:\n",
    "  print(\"Die Bedingung ist True\")\n",
    "else:\n",
    "  print(\"Die Bedingung ist False\")"
   ]
  },
  {
   "cell_type": "code",
   "execution_count": 28,
   "metadata": {},
   "outputs": [
    {
     "output_type": "stream",
     "name": "stdout",
     "text": [
      "y ist positiv und ungerade\n"
     ]
    }
   ],
   "source": [
    "y = 5\n",
    "if y < 0:\n",
    "  print(\"y ist negativ\")\n",
    "elif y % 2 == 1:\n",
    "  print(\"y ist positiv und ungerade\")\n",
    "elif y > 9 and y % 3 != 0:\n",
    "  print(\"y ist größer als 9 und nicht durch 3 teilbar\")\n",
    "else:\n",
    "  print(\"Die Bedingungen sind alle False\")"
   ]
  },
  {
   "source": [
    "## Perzeptron Funktion"
   ],
   "cell_type": "markdown",
   "metadata": {}
  },
  {
   "cell_type": "code",
   "execution_count": 29,
   "metadata": {},
   "outputs": [],
   "source": [
    "def perzeptron(w, x):\n",
    "    if np.dot(w, x) > 0:\n",
    "        return 1\n",
    "    else:\n",
    "        return 0"
   ]
  },
  {
   "cell_type": "code",
   "execution_count": 30,
   "metadata": {},
   "outputs": [
    {
     "output_type": "stream",
     "name": "stdout",
     "text": [
      "Das ist ein Hund!\n"
     ]
    }
   ],
   "source": []
  },
  {
   "source": [
    "## Visualisierung der Linie"
   ],
   "cell_type": "markdown",
   "metadata": {}
  },
  {
   "cell_type": "code",
   "execution_count": 31,
   "metadata": {},
   "outputs": [],
   "source": [
    "def visualize(feature, labels, w):\n",
    "    plt.title('Trainingsdaten')\n",
    "    plt.xlabel('Grösse [cm]')\n",
    "    plt.ylabel('Länge [cm]')\n",
    "    plt.scatter(feature[:,0], feature[:,1], c=labels)\n",
    "\n",
    "    if w[1] != 0:\n",
    "        x0 = np.array([min(feature[:,0]), max(feature[:,0])])\n",
    "        x1 = -(w[0] * x0 + w[2]) / w[1]\n",
    "        plt.plot(x0, x1)\n",
    "\n",
    "    plt.show()"
   ]
  }
 ]
}