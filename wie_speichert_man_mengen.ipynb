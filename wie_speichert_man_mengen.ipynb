{
 "metadata": {
  "language_info": {
   "codemirror_mode": {
    "name": "ipython",
    "version": 3
   },
   "file_extension": ".py",
   "mimetype": "text/x-python",
   "name": "python",
   "nbconvert_exporter": "python",
   "pygments_lexer": "ipython3",
   "version": 3
  },
  "orig_nbformat": 2
 },
 "nbformat": 4,
 "nbformat_minor": 2,
 "cells": [
  {
   "source": [
    "# Mengen"
   ],
   "cell_type": "markdown",
   "metadata": {}
  },
  {
   "source": [
    "## Variablen"
   ],
   "cell_type": "markdown",
   "metadata": {}
  },
  {
   "cell_type": "code",
   "execution_count": null,
   "metadata": {},
   "outputs": [],
   "source": [
    "# Integer\n",
    "beine = 4\n",
    "\n",
    "# Float\n",
    "grosse = 35.4\n",
    "breite = 21.9\n",
    "\n",
    "# String\n",
    "farbe = 'Braun'\n",
    "label = \"Hund\""
   ]
  },
  {
   "source": [
    "## Sets"
   ],
   "cell_type": "markdown",
   "metadata": {}
  },
  {
   "cell_type": "code",
   "execution_count": null,
   "metadata": {},
   "outputs": [],
   "source": [
    "satz = {beine, grosse, breite, farbe, label}\n",
    "satz = {4, 35.4, 21.9, \"Braun\", \"Hund\"}\n",
    "feature = {4, 35.4, 21.9, \"Braun\", \"Hund\"}"
   ]
  },
  {
   "source": [
    "## Tupel"
   ],
   "cell_type": "markdown",
   "metadata": {}
  },
  {
   "cell_type": "code",
   "execution_count": null,
   "metadata": {},
   "outputs": [],
   "source": [
    "tupel = (4, 35.4, 21.9, \"Braun\", \"Hund\")"
   ]
  },
  {
   "source": [
    "## Listen"
   ],
   "cell_type": "markdown",
   "metadata": {}
  },
  {
   "cell_type": "code",
   "execution_count": null,
   "metadata": {},
   "outputs": [],
   "source": [
    "liste = [4, 35.4, 21.9, \"Braun\", \"Hund\"]"
   ]
  },
  {
   "source": [
    "## Dictionaries"
   ],
   "cell_type": "markdown",
   "metadata": {}
  },
  {
   "cell_type": "code",
   "execution_count": null,
   "metadata": {},
   "outputs": [],
   "source": [
    "# Dictionaries\n",
    "data = {\n",
    "    'beine': beine,\n",
    "    'grosse': grosse,\n",
    "    'breite': breite,\n",
    "    'farbe': farbe,\n",
    "    'label': label\n",
    "}"
   ]
  },
  {
   "cell_type": "code",
   "execution_count": null,
   "metadata": {},
   "outputs": [],
   "source": [
    "# Doppelte Werte\n",
    "data = {\n",
    "   'beine': 4,\n",
    "   'grosse': 35.4,\n",
    "   'breite': 21.9,\n",
    "   'farbe': \"Braun\",\n",
    "   'label': \"Hund\",\n",
    "   'breite': 28.3\n",
    "}"
   ]
  },
  {
   "cell_type": "code",
   "execution_count": null,
   "metadata": {},
   "outputs": [],
   "source": [
    "# Auslesen\n",
    "print(data['beine'])"
   ]
  },
  {
   "source": [
    "## Mengen von Mengen"
   ],
   "cell_type": "markdown",
   "metadata": {}
  },
  {
   "cell_type": "code",
   "execution_count": null,
   "metadata": {},
   "outputs": [],
   "source": [
    "# Listen erstellen\n",
    "beine = [4, 4, 4, 4, 4]\n",
    "grosse = [35.4, 28.6, 32.7, 23.9, 45.6]\n",
    "breite = [21.9, 18.7, 16.4, 15.8, 25.6]\n",
    "farbe = [\"Braun\", \"Weiß\", \"Schwarz\", \"Beige\", \"Braun\"]\n",
    "label = [\"Hund\", \"Hund\", \"Hund\", \"kein Hund\", \"Hund\"]"
   ]
  },
  {
   "cell_type": "code",
   "execution_count": null,
   "metadata": {},
   "outputs": [],
   "source": [
    "data = {\n",
    "    'beine': beine,\n",
    "    'grosse': grosse,\n",
    "    'breite': breite,\n",
    "    'farbe': farbe,\n",
    "    'label': label\n",
    "}"
   ]
  },
  {
   "cell_type": "code",
   "execution_count": null,
   "metadata": {},
   "outputs": [],
   "source": [
    "print(data['breite'])"
   ]
  }
 ]
}