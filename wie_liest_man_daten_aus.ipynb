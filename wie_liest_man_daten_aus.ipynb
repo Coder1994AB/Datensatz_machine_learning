{
 "metadata": {
  "language_info": {
   "codemirror_mode": {
    "name": "ipython",
    "version": 3
   },
   "file_extension": ".py",
   "mimetype": "text/x-python",
   "name": "python",
   "nbconvert_exporter": "python",
   "pygments_lexer": "ipython3",
   "version": 3
  },
  "orig_nbformat": 2
 },
 "nbformat": 4,
 "nbformat_minor": 2,
 "cells": [
  {
   "source": [
    "# Wie liest man Daten aus?"
   ],
   "cell_type": "markdown",
   "metadata": {}
  },
  {
   "source": [
    "## Daten laden"
   ],
   "cell_type": "markdown",
   "metadata": {}
  },
  {
   "cell_type": "code",
   "execution_count": null,
   "metadata": {},
   "outputs": [],
   "source": [
    "import numpy as np"
   ]
  },
  {
   "cell_type": "code",
   "execution_count": null,
   "metadata": {},
   "outputs": [],
   "source": [
    "feature = np.array([[4.0, 37.92655435, 23.90101111],\n",
    "                    [4.0, 35.88942857, 22.73639281],\n",
    "                    [4.0, 29.49674574, 21.42168559],\n",
    "                    [4.0, 32.48016326, 21.7340484 ],\n",
    "                    [4.0, 38.00676226, 24.37202837],\n",
    "                    [4.0, 30.73073988, 22.69832608],\n",
    "                    [4.0, 35.93672343, 21.07445241],\n",
    "                    [4.0, 38.65212459, 20.57099727],\n",
    "                    [4.0, 35.52041768, 21.74519457],\n",
    "                    [4.0, 37.69535497, 20.33073640],\n",
    "                    [4.0, 33.00699292, 22.57063861],\n",
    "                    [4.0, 33.73140934, 23.81730782],\n",
    "                    [4.0, 43.85053380, 20.05153803],\n",
    "                    [4.0, 32.95555986, 24.12153986],\n",
    "                    [4.0, 36.38192916, 19.20280266],\n",
    "                    [4.0, 36.54270168, 20.45388966],\n",
    "                    [4.0, 33.08246118, 22.20524015],\n",
    "                    [4.0, 31.76866280, 21.01201139],\n",
    "                    [4.0, 42.24260825, 20.44394610],\n",
    "                    [4.0, 29.04450264, 22.46633771],\n",
    "                    [4.0, 30.04284328, 21.54561621],\n",
    "                    [4.0, 18.95626707, 19.66737753],\n",
    "                    [4.0, 18.60176718, 17.74023009],\n",
    "                    [4.0, 12.85314993, 18.42746953],\n",
    "                    [4.0, 28.62450072, 17.94781944],\n",
    "                    [4.0, 21.00655655, 19.33438286],\n",
    "                    [4.0, 17.33580556, 18.81696459],\n",
    "                    [4.0, 31.17129195, 17.23625014],\n",
    "                    [4.0, 19.36176482, 20.67772798],\n",
    "                    [4.0, 27.26581705, 16.71312863],\n",
    "                    [4.0, 21.19107828, 19.00673617],\n",
    "                    [4.0, 19.08131597, 15.24401994],\n",
    "                    [4.0, 26.69761925, 17.05937466],\n",
    "                    [2.0, 4.44136559 , 3.52432493 ],\n",
    "                    [2.0, 10.26395607, 1.07729281 ],\n",
    "                    [2.0, 7.39058439 , 3.44234423 ],\n",
    "                    [2.0, 4.23565118 , 4.28840232 ],\n",
    "                    [2.0, 3.87875761 , 5.12407692 ],\n",
    "                    [2.0, 15.12959925, 6.26045879 ],\n",
    "                    [0.0, 5.93041263 , 1.70841905 ],\n",
    "                    [0.0, 4.25054779 , 5.01371294 ],\n",
    "                    [0.0, 2.15139117 , 4.16668657 ],\n",
    "                    [0.0, 2.38283228 , 3.83347914 ]])"
   ]
  },
  {
   "cell_type": "code",
   "execution_count": null,
   "metadata": {},
   "outputs": [],
   "source": [
    "label = np.concatenate((np.ones(21), np.zeros(22)))\n"
   ]
  },
  {
   "cell_type": "code",
   "execution_count": null,
   "metadata": {},
   "outputs": [],
   "source": [
    "print(feature.shape)\n",
    "print(label.shape)"
   ]
  },
  {
   "cell_type": "code",
   "execution_count": null,
   "metadata": {},
   "outputs": [],
   "source": [
    "print(np.mean(feature,0))"
   ]
  },
  {
   "source": [
    "## Indizierung"
   ],
   "cell_type": "markdown",
   "metadata": {}
  },
  {
   "cell_type": "code",
   "execution_count": null,
   "metadata": {},
   "outputs": [],
   "source": [
    "print(feature[1])\n",
    "print(feature[0])"
   ]
  },
  {
   "cell_type": "code",
   "execution_count": null,
   "metadata": {},
   "outputs": [],
   "source": [
    "feat_10 = feature[9]\n",
    "print(feat_10[2])"
   ]
  },
  {
   "cell_type": "code",
   "execution_count": null,
   "metadata": {},
   "outputs": [],
   "source": [
    "print(feature[9][2])\n",
    "print(feature[9,2])"
   ]
  },
  {
   "source": [
    "### Zeilen auslesen"
   ],
   "cell_type": "markdown",
   "metadata": {}
  },
  {
   "cell_type": "code",
   "execution_count": null,
   "metadata": {},
   "outputs": [],
   "source": [
    "print(feature[:,2])"
   ]
  },
  {
   "source": [
    "## Negative Indizes"
   ],
   "cell_type": "markdown",
   "metadata": {}
  },
  {
   "cell_type": "code",
   "execution_count": null,
   "metadata": {},
   "outputs": [],
   "source": [
    "print(feature[-1])\n",
    "print(feature[-2])"
   ]
  },
  {
   "source": [
    "### Teile der Matrix"
   ],
   "cell_type": "markdown",
   "metadata": {}
  },
  {
   "cell_type": "code",
   "execution_count": null,
   "metadata": {},
   "outputs": [],
   "source": [
    "print(feature[15:18])"
   ]
  },
  {
   "source": [
    "### Jedes x-te Element"
   ],
   "cell_type": "markdown",
   "metadata": {}
  },
  {
   "cell_type": "code",
   "execution_count": null,
   "metadata": {},
   "outputs": [],
   "source": [
    "print(feature[8:15:3])\n",
    "print(feature[::3])"
   ]
  }
 ]
}