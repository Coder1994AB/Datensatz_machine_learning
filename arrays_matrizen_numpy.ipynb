{
 "metadata": {
  "language_info": {
   "codemirror_mode": {
    "name": "ipython",
    "version": 3
   },
   "file_extension": ".py",
   "mimetype": "text/x-python",
   "name": "python",
   "nbconvert_exporter": "python",
   "pygments_lexer": "ipython3",
   "version": "3.8.3-final"
  },
  "orig_nbformat": 2,
  "kernelspec": {
   "name": "python3",
   "display_name": "Python 3",
   "language": "python"
  }
 },
 "nbformat": 4,
 "nbformat_minor": 2,
 "cells": [
  {
   "source": [],
   "cell_type": "markdown",
   "metadata": {}
  },
  {
   "cell_type": "code",
   "execution_count": 1,
   "metadata": {},
   "outputs": [],
   "source": [
    "data = {\n",
    "   'beine': [4, 4, 4],\n",
    "   'groesse': [35.4, 28.6, 32.7],\n",
    "   'breite': [21.9, 18.7, 16.4],\n",
    "   'farbe': [\"Braun\", \"Schwarz\", \"Beige\"],\n",
    "   'label': [\"Hund\", \"nicht Hund\", \"Hund\"]\n",
    "}"
   ]
  },
  {
   "cell_type": "code",
   "execution_count": 2,
   "metadata": {},
   "outputs": [],
   "source": [
    "beine = [4, 4, 4, 4, 4]\n",
    "groesse = [35.4, 28.6, 32.7, 23.9, 45.6]\n",
    "breite = [21.9, 18.7, 16.4, 15.8, 25.6]\n",
    "farbe = [\"Braun\", \"Weiß\", \"Schwarz\", \"Beige\", \"Braun\"]\n",
    "label = [\"Hund\", \"nicht Hund\", \"Hund\", \"nicht Hund\", \"Hund\"]"
   ]
  },
  {
   "cell_type": "code",
   "execution_count": 3,
   "metadata": {},
   "outputs": [],
   "source": [
    "farbe = [1, \"Weiß\", \"Schwarz\", \"Beige\", 1]\n",
    "farbe = [1, 2, \"Schwarz\", \"Beige\", 1]\n",
    "farbe = [1, 2, 3, \"Beige\", 1]\n",
    "farbe = [1, 2, 3, 4, 1]\n",
    "label = [1, \"nicht Hund\", 1, \"nicht Hund\", 1]"
   ]
  },
  {
   "cell_type": "code",
   "execution_count": 4,
   "metadata": {},
   "outputs": [],
   "source": [
    "beine = [4, 4, 4, 4, 4]\n",
    "groesse = [35.4, 28.6, 32.7, 23.9, 45.6]\n",
    "breite = [21.9, 18.7, 16.4, 15.8, 25.6]\n",
    "label = [1, 0, 1, 0, 1]"
   ]
  },
  {
   "cell_type": "code",
   "execution_count": 5,
   "metadata": {},
   "outputs": [],
   "source": [
    "data = {\n",
    "   'beine': [4, 4, 4, 4, 4],\n",
    "   'groesse': [35.4, 28.6, 32.7, 23.9, 45.6],\n",
    "   'breite': [21.9, 18.7, 16.4, 15.8, 25.6],\n",
    "   'label': [1, 0, 1, 0, 1]\n",
    "}"
   ]
  },
  {
   "cell_type": "code",
   "execution_count": 6,
   "metadata": {},
   "outputs": [],
   "source": [
    "import numpy as np"
   ]
  },
  {
   "cell_type": "code",
   "execution_count": 7,
   "metadata": {},
   "outputs": [],
   "source": [
    "beine = np.array([4, 4, 4, 4, 4])\n",
    "groesse = np.array([35.4, 28.6, 32.7, 23.9, 45.6])\n",
    "breite = np.array([21.9, 18.7, 16.4, 15.8, 25.6])\n",
    "label = np.array([1, 0, 1, 0, 1])"
   ]
  },
  {
   "cell_type": "code",
   "execution_count": 8,
   "metadata": {},
   "outputs": [
    {
     "output_type": "stream",
     "name": "stdout",
     "text": [
      "[35.4 28.6 32.7 23.9 45.6]\n[35.4 28.6 32.7 23.9 45.6]\n"
     ]
    }
   ],
   "source": [
    "# Mit der eckigen Klammer (als Liste) sieht es so aus:\n",
    "print(np.array([35.4, 28.6, 32.7, 23.9, 45.6]))\n",
    "\n",
    "# Und als Tupel genau gleich:\n",
    "print(np.array((35.4, 28.6, 32.7, 23.9, 45.6)))"
   ]
  },
  {
   "cell_type": "code",
   "execution_count": 9,
   "metadata": {},
   "outputs": [
    {
     "output_type": "error",
     "ename": "KeyError",
     "evalue": "'grosse'",
     "traceback": [
      "\u001b[0;31m---------------------------------------------------------------------------\u001b[0m",
      "\u001b[0;31mKeyError\u001b[0m                                  Traceback (most recent call last)",
      "\u001b[0;32m<ipython-input-9-6468b859a516>\u001b[0m in \u001b[0;36m<module>\u001b[0;34m\u001b[0m\n\u001b[1;32m      1\u001b[0m \u001b[0mbeine\u001b[0m \u001b[0;34m=\u001b[0m \u001b[0mnp\u001b[0m\u001b[0;34m.\u001b[0m\u001b[0marray\u001b[0m\u001b[0;34m(\u001b[0m\u001b[0mdata\u001b[0m\u001b[0;34m[\u001b[0m\u001b[0;34m'beine'\u001b[0m\u001b[0;34m]\u001b[0m\u001b[0;34m)\u001b[0m\u001b[0;34m\u001b[0m\u001b[0;34m\u001b[0m\u001b[0m\n\u001b[0;32m----> 2\u001b[0;31m \u001b[0mgroesse\u001b[0m \u001b[0;34m=\u001b[0m \u001b[0mnp\u001b[0m\u001b[0;34m.\u001b[0m\u001b[0marray\u001b[0m\u001b[0;34m(\u001b[0m\u001b[0mdata\u001b[0m\u001b[0;34m[\u001b[0m\u001b[0;34m'grosse'\u001b[0m\u001b[0;34m]\u001b[0m\u001b[0;34m)\u001b[0m\u001b[0;34m\u001b[0m\u001b[0;34m\u001b[0m\u001b[0m\n\u001b[0m\u001b[1;32m      3\u001b[0m \u001b[0mbreite\u001b[0m \u001b[0;34m=\u001b[0m \u001b[0mnp\u001b[0m\u001b[0;34m.\u001b[0m\u001b[0marray\u001b[0m\u001b[0;34m(\u001b[0m\u001b[0mdata\u001b[0m\u001b[0;34m[\u001b[0m\u001b[0;34m'breite'\u001b[0m\u001b[0;34m]\u001b[0m\u001b[0;34m)\u001b[0m\u001b[0;34m\u001b[0m\u001b[0;34m\u001b[0m\u001b[0m\n\u001b[1;32m      4\u001b[0m \u001b[0mlabel\u001b[0m \u001b[0;34m=\u001b[0m \u001b[0mnp\u001b[0m\u001b[0;34m.\u001b[0m\u001b[0marray\u001b[0m\u001b[0;34m(\u001b[0m\u001b[0mdata\u001b[0m\u001b[0;34m[\u001b[0m\u001b[0;34m'label'\u001b[0m\u001b[0;34m]\u001b[0m\u001b[0;34m)\u001b[0m\u001b[0;34m\u001b[0m\u001b[0;34m\u001b[0m\u001b[0m\n\u001b[1;32m      5\u001b[0m \u001b[0mlabel\u001b[0m\u001b[0;34m.\u001b[0m\u001b[0mshape\u001b[0m\u001b[0;34m\u001b[0m\u001b[0;34m\u001b[0m\u001b[0m\n",
      "\u001b[0;31mKeyError\u001b[0m: 'grosse'"
     ]
    }
   ],
   "source": [
    "beine = np.array(data['beine'])\n",
    "groesse = np.array(data['groesse'])\n",
    "breite = np.array(data['breite'])\n",
    "label = np.array(data['label'])\n",
    "label.shape"
   ]
  },
  {
   "cell_type": "code",
   "execution_count": 9,
   "metadata": {},
   "outputs": [
    {
     "output_type": "stream",
     "name": "stdout",
     "text": [
      "[21.9 18.7 16.4 15.8 25.6]\n"
     ]
    }
   ],
   "source": [
    "print(breite)"
   ]
  },
  {
   "cell_type": "code",
   "execution_count": 10,
   "metadata": {},
   "outputs": [],
   "source": [
    "data_np = np.array(data)"
   ]
  },
  {
   "cell_type": "code",
   "execution_count": 11,
   "metadata": {},
   "outputs": [
    {
     "output_type": "stream",
     "name": "stdout",
     "text": [
      "[[ 4.   4.   4.   4.   4. ]\n [35.4 28.6 32.7 23.9 45.6]\n [21.9 18.7 16.4 15.8 25.6]]\n(3, 5)\n"
     ]
    }
   ],
   "source": [
    "feature = np.array([data['beine'], data['groesse'], data['breite']])\n",
    "print(feature)\n",
    "print(feature.shape)"
   ]
  },
  {
   "cell_type": "code",
   "execution_count": 12,
   "metadata": {},
   "outputs": [
    {
     "output_type": "stream",
     "name": "stdout",
     "text": [
      "[[ 4.  35.4 21.9]\n [ 4.  28.6 18.7]\n [ 4.  32.7 16.4]\n [ 4.  23.9 15.8]\n [ 4.  45.6 25.6]]\n"
     ]
    }
   ],
   "source": [
    "# Zeilen und Spalten tauschen\n",
    "print(feature.T)"
   ]
  }
 ]
}