{
 "metadata": {
  "language_info": {
   "codemirror_mode": {
    "name": "ipython",
    "version": 3
   },
   "file_extension": ".py",
   "mimetype": "text/x-python",
   "name": "python",
   "nbconvert_exporter": "python",
   "pygments_lexer": "ipython3",
   "version": "3.8.5-final"
  },
  "orig_nbformat": 2,
  "kernelspec": {
   "name": "python3",
   "display_name": "Python 3",
   "language": "python"
  }
 },
 "nbformat": 4,
 "nbformat_minor": 2,
 "cells": [
  {
   "source": [
    "# Wie rechnet man?\n",
    "## Daten laden"
   ],
   "cell_type": "markdown",
   "metadata": {}
  },
  {
   "cell_type": "code",
   "execution_count": 1,
   "metadata": {},
   "outputs": [],
   "source": [
    "import numpy as np"
   ]
  },
  {
   "cell_type": "code",
   "execution_count": 2,
   "metadata": {},
   "outputs": [],
   "source": [
    "feature = np.array([[4.0, 37.92655435, 23.90101111],\n",
    "                    [4.0, 35.88942857, 22.73639281],\n",
    "                    [4.0, 29.49674574, 21.42168559],\n",
    "                    [4.0, 32.48016326, 21.7340484 ],\n",
    "                    [4.0, 38.00676226, 24.37202837],\n",
    "                    [4.0, 30.73073988, 22.69832608],\n",
    "                    [4.0, 35.93672343, 21.07445241],\n",
    "                    [4.0, 38.65212459, 20.57099727],\n",
    "                    [4.0, 35.52041768, 21.74519457],\n",
    "                    [4.0, 37.69535497, 20.33073640],\n",
    "                    [4.0, 33.00699292, 22.57063861],\n",
    "                    [4.0, 33.73140934, 23.81730782],\n",
    "                    [4.0, 43.85053380, 20.05153803],\n",
    "                    [4.0, 32.95555986, 24.12153986],\n",
    "                    [4.0, 36.38192916, 19.20280266],\n",
    "                    [4.0, 36.54270168, 20.45388966],\n",
    "                    [4.0, 33.08246118, 22.20524015],\n",
    "                    [4.0, 31.76866280, 21.01201139],\n",
    "                    [4.0, 42.24260825, 20.44394610],\n",
    "                    [4.0, 29.04450264, 22.46633771],\n",
    "                    [4.0, 30.04284328, 21.54561621],\n",
    "                    [4.0, 18.95626707, 19.66737753],\n",
    "                    [4.0, 18.60176718, 17.74023009],\n",
    "                    [4.0, 12.85314993, 18.42746953],\n",
    "                    [4.0, 28.62450072, 17.94781944],\n",
    "                    [4.0, 21.00655655, 19.33438286],\n",
    "                    [4.0, 17.33580556, 18.81696459],\n",
    "                    [4.0, 31.17129195, 17.23625014],\n",
    "                    [4.0, 19.36176482, 20.67772798],\n",
    "                    [4.0, 27.26581705, 16.71312863],\n",
    "                    [4.0, 21.19107828, 19.00673617],\n",
    "                    [4.0, 19.08131597, 15.24401994],\n",
    "                    [4.0, 26.69761925, 17.05937466],\n",
    "                    [2.0, 4.44136559 , 3.52432493 ],\n",
    "                    [2.0, 10.26395607, 1.07729281 ],\n",
    "                    [2.0, 7.39058439 , 3.44234423 ],\n",
    "                    [2.0, 4.23565118 , 4.28840232 ],\n",
    "                    [2.0, 3.87875761 , 5.12407692 ],\n",
    "                    [2.0, 15.12959925, 6.26045879 ],\n",
    "                    [0.0, 5.93041263 , 1.70841905 ],\n",
    "                    [0.0, 4.25054779 , 5.01371294 ],\n",
    "                    [0.0, 2.15139117 , 4.16668657 ],\n",
    "                    [0.0, 2.38283228 , 3.83347914 ]])\n",
    "\n",
    "label = np.concatenate((np.ones(21), np.zeros(22)))"
   ]
  },
  {
   "cell_type": "code",
   "execution_count": 3,
   "metadata": {},
   "outputs": [
    {
     "output_type": "stream",
     "name": "stdout",
     "text": [
      "[37.92655435 23.90101111]\n"
     ]
    }
   ],
   "source": [
    "x = feature[0, 1:]\n",
    "print(x)"
   ]
  },
  {
   "cell_type": "code",
   "execution_count": 4,
   "metadata": {},
   "outputs": [
    {
     "output_type": "stream",
     "name": "stdout",
     "text": [
      "[37.92655435 23.90101111  1.        ]\n"
     ]
    }
   ],
   "source": [
    "x = np.insert(x, 2, 1)\n",
    "print(x)"
   ]
  },
  {
   "cell_type": "code",
   "execution_count": 5,
   "metadata": {},
   "outputs": [
    {
     "output_type": "stream",
     "name": "stdout",
     "text": [
      "[0. 0. 0.]\n"
     ]
    }
   ],
   "source": [
    "w = np.zeros(3)\n",
    "print(w)"
   ]
  },
  {
   "cell_type": "code",
   "execution_count": 6,
   "metadata": {},
   "outputs": [
    {
     "output_type": "stream",
     "name": "stdout",
     "text": [
      "[0.10828938 0.33880872 0.17793643]\n"
     ]
    }
   ],
   "source": [
    "w = np.random.rand(3)\n",
    "print(w)"
   ]
  },
  {
   "source": [
    "## Perzeptron Funktion"
   ],
   "cell_type": "markdown",
   "metadata": {}
  },
  {
   "cell_type": "code",
   "execution_count": 7,
   "metadata": {},
   "outputs": [],
   "source": [
    "# Ausgeschrieben\n",
    "y = w[0] * x[0] + w[1] * x[1] + w[2] * x[2]"
   ]
  },
  {
   "cell_type": "code",
   "execution_count": 8,
   "metadata": {},
   "outputs": [],
   "source": [
    "# Skalarprodukt\n",
    "y = np.dot(w, x)"
   ]
  },
  {
   "cell_type": "code",
   "execution_count": 9,
   "metadata": {},
   "outputs": [],
   "source": [
    "# Matrixmultiplikation\n",
    "y = w @ x"
   ]
  },
  {
   "source": [
    "## Operatoren der Arithmetik"
   ],
   "cell_type": "markdown",
   "metadata": {}
  },
  {
   "cell_type": "code",
   "execution_count": 10,
   "metadata": {},
   "outputs": [],
   "source": [
    "# Addition\n",
    "y = x[0] + x[1]"
   ]
  },
  {
   "cell_type": "code",
   "execution_count": 11,
   "metadata": {},
   "outputs": [],
   "source": [
    "# Multiplikation\n",
    "y = x[0] * w[0]"
   ]
  },
  {
   "cell_type": "code",
   "execution_count": 12,
   "metadata": {},
   "outputs": [],
   "source": [
    "# Subraktion\n",
    "y = x[0] - x[1]"
   ]
  },
  {
   "cell_type": "code",
   "execution_count": 13,
   "metadata": {},
   "outputs": [],
   "source": [
    "# Division\n",
    "y = x[0] / w[0]"
   ]
  },
  {
   "cell_type": "code",
   "execution_count": 14,
   "metadata": {},
   "outputs": [],
   "source": [
    "x[0] = x[0] + 1\n",
    "\n",
    "# kann man auch so schreiben:\n",
    "x[0] += 1\n",
    "\n",
    "# geht auch mit minus:\n",
    "x[0] -= 2\n",
    "\n",
    "# oder multiplikation und division:\n",
    "x[0] *= 3\n",
    "x[0] /= 3"
   ]
  },
  {
   "cell_type": "code",
   "execution_count": 15,
   "metadata": {},
   "outputs": [],
   "source": [
    "# Exponent (Quadrat)\n",
    "y = x[0] ** 2"
   ]
  },
  {
   "cell_type": "code",
   "execution_count": 16,
   "metadata": {},
   "outputs": [
    {
     "output_type": "stream",
     "name": "stdout",
     "text": [
      "18.963277175\n18.0\n"
     ]
    }
   ],
   "source": [
    "# Abgerundete Division\n",
    "y = x[0] // 2\n",
    "print(x[0] / 2)\n",
    "print(y)"
   ]
  },
  {
   "cell_type": "code",
   "execution_count": 17,
   "metadata": {},
   "outputs": [
    {
     "output_type": "stream",
     "name": "stdout",
     "text": [
      "2.9265543500000035\n"
     ]
    }
   ],
   "source": [
    "# Modulo (Restwert)\n",
    "y = x[0] % 5\n",
    "print(y)"
   ]
  },
  {
   "source": [
    "### Operatoren von Datentypen "
   ],
   "cell_type": "markdown",
   "metadata": {}
  },
  {
   "cell_type": "code",
   "execution_count": 18,
   "metadata": {},
   "outputs": [
    {
     "output_type": "stream",
     "name": "stdout",
     "text": [
      "[38.03484373 24.23981983  1.17793643]\n"
     ]
    }
   ],
   "source": [
    "y = x + w\n",
    "print(y)"
   ]
  },
  {
   "cell_type": "code",
   "execution_count": 19,
   "metadata": {},
   "outputs": [
    {
     "output_type": "stream",
     "name": "stdout",
     "text": [
      "[350.23335841  70.54426273   5.61998446]\n"
     ]
    }
   ],
   "source": [
    "y = x / w\n",
    "print(y)"
   ]
  },
  {
   "cell_type": "code",
   "execution_count": 20,
   "metadata": {},
   "outputs": [
    {
     "output_type": "stream",
     "name": "stdout",
     "text": [
      "Man kann Strings auch addieren\n"
     ]
    }
   ],
   "source": [
    "print(\"Man kann Strings \" + \"auch addieren\")"
   ]
  },
  {
   "cell_type": "code",
   "execution_count": 21,
   "metadata": {},
   "outputs": [
    {
     "output_type": "error",
     "ename": "TypeError",
     "evalue": "unsupported operand type(s) for -: 'str' and 'str'",
     "traceback": [
      "\u001b[1;31m---------------------------------------------------------------------------\u001b[0m",
      "\u001b[1;31mTypeError\u001b[0m                                 Traceback (most recent call last)",
      "\u001b[1;32m<ipython-input-21-5a4a3e1903ae>\u001b[0m in \u001b[0;36m<module>\u001b[1;34m\u001b[0m\n\u001b[0;32m      1\u001b[0m \u001b[1;31m# gibt eine Fehlermeldung aus\u001b[0m\u001b[1;33m\u001b[0m\u001b[1;33m\u001b[0m\u001b[1;33m\u001b[0m\u001b[0m\n\u001b[1;32m----> 2\u001b[1;33m \u001b[0mprint\u001b[0m\u001b[1;33m(\u001b[0m\u001b[1;34m\"Aber nicht \"\u001b[0m \u001b[1;33m-\u001b[0m \u001b[1;34m\"Subtrahieren\"\u001b[0m\u001b[1;33m)\u001b[0m\u001b[1;33m\u001b[0m\u001b[1;33m\u001b[0m\u001b[0m\n\u001b[0m",
      "\u001b[1;31mTypeError\u001b[0m: unsupported operand type(s) for -: 'str' and 'str'"
     ]
    }
   ],
   "source": [
    "# gibt eine Fehlermeldung aus\n",
    "print(\"Aber nicht \" - \"Subtrahieren\")"
   ]
  },
  {
   "cell_type": "code",
   "execution_count": 20,
   "metadata": {},
   "outputs": [
    {
     "output_type": "error",
     "ename": "TypeError",
     "evalue": "can only concatenate str (not \"numpy.float64\") to str",
     "traceback": [
      "\u001b[1;31m---------------------------------------------------------------------------\u001b[0m",
      "\u001b[1;31mTypeError\u001b[0m                                 Traceback (most recent call last)",
      "\u001b[1;32m<ipython-input-20-9d20a9ddb67e>\u001b[0m in \u001b[0;36m<module>\u001b[1;34m\u001b[0m\n\u001b[0;32m      1\u001b[0m \u001b[1;31m# gibt eine Fehlermeldung aus\u001b[0m\u001b[1;33m\u001b[0m\u001b[1;33m\u001b[0m\u001b[1;33m\u001b[0m\u001b[0m\n\u001b[1;32m----> 2\u001b[1;33m \u001b[0mprint\u001b[0m\u001b[1;33m(\u001b[0m\u001b[1;34m\"Der Wert von x[0] ist \"\u001b[0m \u001b[1;33m+\u001b[0m \u001b[0mx\u001b[0m\u001b[1;33m[\u001b[0m\u001b[1;36m0\u001b[0m\u001b[1;33m]\u001b[0m\u001b[1;33m)\u001b[0m\u001b[1;33m\u001b[0m\u001b[1;33m\u001b[0m\u001b[0m\n\u001b[0m",
      "\u001b[1;31mTypeError\u001b[0m: can only concatenate str (not \"numpy.float64\") to str"
     ]
    }
   ],
   "source": [
    "# gibt eine Fehlermeldung aus\n",
    "print(\"Der Wert von x[0] ist \" + x[0])"
   ]
  },
  {
   "cell_type": "code",
   "execution_count": 22,
   "metadata": {},
   "outputs": [
    {
     "output_type": "stream",
     "name": "stdout",
     "text": [
      "Der Wert der von x[0] ist 37.92655435\n"
     ]
    }
   ],
   "source": [
    "# übersetzt die Zahl in einen String\n",
    "print(\"Der Wert der von x[0] ist \" + str(x[0]))"
   ]
  },
  {
   "cell_type": "code",
   "execution_count": null,
   "metadata": {},
   "outputs": [],
   "source": []
  }
 ]
}